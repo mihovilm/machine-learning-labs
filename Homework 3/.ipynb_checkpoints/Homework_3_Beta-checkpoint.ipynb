{
 "cells": [
  {
   "cell_type": "code",
   "execution_count": null,
   "metadata": {},
   "outputs": [],
   "source": [
    "import numpy as np\n",
    "import pandas as pd\n",
    "from sklearn import svm\n",
    "from sklearn.model_selection import GridSearchCV, cross_val_score\n",
    "from sklearn import preprocessing\n",
    "\n",
    "\n",
    "\n",
    "train_data = pd.read_csv(\"hw3_training_data.csv\", sep=\",\")\n",
    "test_data = pd.read_csv(\"hw3_test_data.csv\", sep=\",\")\n",
    "X_train = preprocessing.scale(train_data.iloc[:, 0:6])\n",
    "y_train = train_data.iloc[:, 6]\n",
    "\n",
    "\n",
    "clf = svm.SVC(C=10, kernel='poly', degree=4, gamma=1, cache_size=20000)\n",
    "print(cross_val_score(clf, X_train, y_train, scoring='accuracy', cv=5))"
   ]
  },
  {
   "cell_type": "code",
   "execution_count": null,
   "metadata": {},
   "outputs": [],
   "source": []
  }
 ],
 "metadata": {
  "kernelspec": {
   "display_name": "Python 3",
   "language": "python",
   "name": "python3"
  },
  "language_info": {
   "codemirror_mode": {
    "name": "ipython",
    "version": 3
   },
   "file_extension": ".py",
   "mimetype": "text/x-python",
   "name": "python",
   "nbconvert_exporter": "python",
   "pygments_lexer": "ipython3",
   "version": "3.7.1"
  }
 },
 "nbformat": 4,
 "nbformat_minor": 2
}
