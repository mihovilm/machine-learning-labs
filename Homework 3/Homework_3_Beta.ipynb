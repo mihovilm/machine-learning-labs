{
 "cells": [
  {
   "cell_type": "code",
   "execution_count": 28,
   "metadata": {},
   "outputs": [
    {
     "name": "stdout",
     "output_type": "stream",
     "text": [
      "[0.713 0.747 0.718 0.752 0.707 0.755 0.762 0.721 0.753 0.751]\n"
     ]
    }
   ],
   "source": [
    "import numpy as np\n",
    "import pandas as pd\n",
    "from sklearn import svm\n",
    "from sklearn.model_selection import GridSearchCV, cross_val_score\n",
    "from sklearn import preprocessing\n",
    "from sklearn.feature_selection import SelectKBest, f_classif, f_regression\n",
    "\n",
    "\n",
    "\n",
    "train_data = pd.read_csv(\"hw3_training_data.csv\", sep=\",\")\n",
    "test_data = pd.read_csv(\"hw3_test_data.csv\", sep=\",\")\n",
    "X_train = train_data.iloc[:, 0:6]\n",
    "y_train = train_data.iloc[:, 6]\n",
    "\n",
    "\n",
    "clf = svm.SVC(C=2.4, kernel='rbf', gamma=1e-5, cache_size=20000)\n",
    "print(cross_val_score(clf, X_train, y_train, scoring='accuracy', cv=10))"
   ]
  },
  {
   "cell_type": "code",
   "execution_count": 5,
   "metadata": {},
   "outputs": [
    {
     "name": "stdout",
     "output_type": "stream",
     "text": [
      "Scores\n",
      "Feature_1: 7.393392639785646 \n",
      "Feature_2: 18.784669224696238 \n",
      "Feature_3: 2.226012718737317 \n",
      "Feature_4: 0.0004471250174478391 \n",
      "Feature_5: 14.538376259304064 \n",
      "Feature_6: 10.004583526480623 \n"
     ]
    }
   ],
   "source": [
    "[0.761 0.752 0.746 0.787 0.768 0.796 0.773 0.727 0.773 0.771]\n",
    "[0.759 0.763 0.754 0.784 0.768 0.796 0.771 0.729 0.775 0.776]\n",
    "X = X_train.values\n",
    "y = y_train.values\n",
    "\n",
    "# feature extraction\n",
    "test = SelectKBest(k='all')\n",
    "fit = test.fit(X, y)\n",
    "\n",
    "# summarize scores\n",
    "np.set_printoptions(precision=3)\n",
    "print(\"Scores\")\n",
    "idx = 0\n",
    "for score in fit.scores_:\n",
    "    idx += 1\n",
    "    print(\"Feature_{0}: {1} \".format(idx, score))\n",
    "features = fit.transform(X)"
   ]
  },
  {
   "cell_type": "code",
   "execution_count": null,
   "metadata": {},
   "outputs": [],
   "source": []
  },
  {
   "cell_type": "code",
   "execution_count": null,
   "metadata": {},
   "outputs": [],
   "source": []
  }
 ],
 "metadata": {
  "kernelspec": {
   "display_name": "Python 3",
   "language": "python",
   "name": "python3"
  },
  "language_info": {
   "codemirror_mode": {
    "name": "ipython",
    "version": 3
   },
   "file_extension": ".py",
   "mimetype": "text/x-python",
   "name": "python",
   "nbconvert_exporter": "python",
   "pygments_lexer": "ipython3",
   "version": "3.7.1"
  }
 },
 "nbformat": 4,
 "nbformat_minor": 2
}
