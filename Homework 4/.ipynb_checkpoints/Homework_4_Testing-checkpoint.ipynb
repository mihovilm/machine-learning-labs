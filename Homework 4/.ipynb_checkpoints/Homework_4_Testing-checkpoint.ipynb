{
 "cells": [
  {
   "cell_type": "code",
   "execution_count": 82,
   "metadata": {},
   "outputs": [],
   "source": [
    "import numpy as np\n",
    "import pandas as pd\n",
    "from sklearn.multiclass import OneVsRestClassifier, OneVsOneClassifier\n",
    "from sklearn import svm, preprocessing\n",
    "from sklearn.ensemble import BaggingClassifier, RandomForestClassifier, GradientBoostingClassifier, ExtraTreesClassifier\n",
    "from sklearn.naive_bayes import GaussianNB\n",
    "from sklearn.tree import DecisionTreeClassifier\n",
    "from sklearn.neighbors import KNeighborsClassifier, RadiusNeighborsClassifier\n",
    "from sklearn.model_selection import cross_val_score, GridSearchCV\n",
    "from sklearn.feature_selection import SelectKBest\n",
    "from sklearn.gaussian_process import GaussianProcessClassifier\n",
    "from sklearn.linear_model import Perceptron\n",
    "\n",
    "\n",
    "import time\n",
    "\n",
    "\n",
    "\n",
    "train_data = pd.read_csv(\"CS74_HW4_training_set.csv\", sep=\",\")\n",
    "test_data = pd.read_csv(\"CS74_HW4_test_set.csv\", sep=\",\")\n",
    "new_test_data = test_data.copy()\n",
    "\n",
    "X_train = train_data.astype(float).iloc[:, [0, 1, 2, 3, 4, 5]]\n",
    "#X_train = preprocessing.scale(X_train)\n",
    "y_train = train_data.iloc[:, 6]\n",
    "\n",
    "\n"
   ]
  },
  {
   "cell_type": "code",
   "execution_count": 105,
   "metadata": {},
   "outputs": [
    {
     "name": "stdout",
     "output_type": "stream",
     "text": [
      "[0.76666667 0.74555556 0.74777778 0.75111111 0.73      ]\n",
      "Elapsed time:  107.08972311019897\n"
     ]
    }
   ],
   "source": [
    "start_time = time.time()\n",
    "\n",
    "# clf = RandomForestClassifier(n_estimators=1600,\n",
    "#                              max_depth = None,\n",
    "#                              max_features='auto',\n",
    "#                              min_samples_split=5,\n",
    "#                              min_samples_leaf=1,\n",
    "#                             bootstrap=True,\n",
    "#                             n_jobs=-1)\n",
    "\n",
    "# Best so far\n",
    "clf = ExtraTreesClassifier(n_estimators=1600,\n",
    "                          max_depth=None,\n",
    "                          min_samples_split=5,\n",
    "                          min_samples_leaf=1,\n",
    "                          bootstrap=True,\n",
    "                          n_jobs=-1)\n",
    "\n",
    "#clf = KNeighborsClassifier(n_neighbors=20)\n",
    "\n",
    "#clf = BaggingClassifier(KNeighborsClassifier(algorithm='kd_tree'), max_samples=0.5, max_features=0.5)\n",
    "\n",
    "#clf = RadiusNeighborsClassifier(radius=2000000)\n",
    "\n",
    "# clf = GradientBoostingClassifier(n_estimators=1600,\n",
    "#                                 max_depth=None,\n",
    "#                                 min_samples_split=5,\n",
    "#                                 min_samples_leaf=1,)\n",
    "\n",
    "#clf = GradientBoostingClassifier(loss='exponential', learning_rate=0.5, n_estimators=1500)\n",
    "\n",
    "# clf = GaussianProcessClassifier(multi_class=\"one_vs_rest\",\n",
    "#                                 n_jobs=-1,)\n",
    "\n",
    "#clf = Perceptron(penalty='elasticnet', alpha=1e-7, max_iter=20000, tol=1e-6)\n",
    "\n",
    "#clf = DecisionTreeClassifier()\n",
    "\n",
    "print(cross_val_score(OneVsRestClassifier(clf), X_train, y_train, scoring='accuracy', cv=5))\n",
    "\n",
    "print(\"Elapsed time: \", time.time()-start_time)"
   ]
  },
  {
   "cell_type": "code",
   "execution_count": null,
   "metadata": {},
   "outputs": [],
   "source": []
  }
 ],
 "metadata": {
  "kernelspec": {
   "display_name": "Python 3",
   "language": "python",
   "name": "python3"
  },
  "language_info": {
   "codemirror_mode": {
    "name": "ipython",
    "version": 3
   },
   "file_extension": ".py",
   "mimetype": "text/x-python",
   "name": "python",
   "nbconvert_exporter": "python",
   "pygments_lexer": "ipython3",
   "version": "3.7.1"
  }
 },
 "nbformat": 4,
 "nbformat_minor": 2
}
