{
 "cells": [
  {
   "cell_type": "code",
   "execution_count": 86,
   "metadata": {},
   "outputs": [],
   "source": [
    "import numpy as np\n",
    "import pandas as pd\n",
    "from sklearn.multiclass import OneVsRestClassifier, OneVsOneClassifier\n",
    "from sklearn import svm, preprocessing\n",
    "from sklearn.ensemble import BaggingClassifier, RandomForestClassifier, GradientBoostingClassifier, ExtraTreesClassifier\n",
    "from sklearn.naive_bayes import GaussianNB\n",
    "from sklearn.tree import DecisionTreeClassifier\n",
    "from sklearn.neighbors import KNeighborsClassifier, RadiusNeighborsClassifier\n",
    "from sklearn.model_selection import cross_val_score, GridSearchCV, train_test_split\n",
    "from sklearn.feature_selection import SelectKBest\n",
    "from sklearn.gaussian_process import GaussianProcessClassifier\n",
    "from sklearn.linear_model import Perceptron\n",
    "from sklearn.metrics import accuracy_score, classification_report\n",
    "\n",
    "\n",
    "\n",
    "import time\n",
    "\n",
    "\n",
    "\n",
    "train_data = pd.read_csv(\"CS74_HW4_training_set.csv\", sep=\",\")\n",
    "test_data = pd.read_csv(\"CS74_HW4_test_set.csv\", sep=\",\")\n",
    "new_test_data = test_data.copy()\n",
    "\n",
    "X_train = train_data.astype(float).iloc[:, [0, 1, 2, 3, 4, 5]]\n",
    "#X_train = preprocessing.scale(X_train)\n",
    "y_train = train_data.iloc[:, 6]\n",
    "\n",
    "\n"
   ]
  },
  {
   "cell_type": "code",
   "execution_count": 99,
   "metadata": {
    "scrolled": true
   },
   "outputs": [
    {
     "name": "stdout",
     "output_type": "stream",
     "text": [
      "[0.73559823 0.74446086 0.73816568 0.76148148 0.74074074 0.77037037\n",
      " 0.74814815 0.76706231 0.76225854 0.74888559]\n",
      "Accuracy: 0.752 (+/- 0.024)\n",
      "Elapsed time:  12.701799392700195\n"
     ]
    }
   ],
   "source": [
    "start_time = time.time()\n",
    "\n",
    "# clf = RandomForestClassifier(n_estimators=1600,\n",
    "#                              max_depth = None,\n",
    "#                              max_features='auto',\n",
    "#                              min_samples_split=5,\n",
    "#                              min_samples_leaf=1,\n",
    "#                             bootstrap=True,\n",
    "#                             n_jobs=-1)\n",
    "\n",
    "# Best so far\n",
    "clf = ExtraTreesClassifier(n_estimators=200,\n",
    "                          max_depth=50,\n",
    "                          max_features='auto',\n",
    "                          min_samples_split=5,\n",
    "                          min_samples_leaf=1,\n",
    "                          bootstrap=False,\n",
    "                          n_jobs=-1)\n",
    "\n",
    "#clf = ExtraTreesClassifier(n_jobs=-1)\n",
    "\n",
    "#clf = KNeighborsClassifier(n_neighbors=20)\n",
    "\n",
    "#clf = BaggingClassifier(KNeighborsClassifier(algorithm='kd_tree'), max_samples=0.5, max_features=0.5)\n",
    "\n",
    "#clf = RadiusNeighborsClassifier(radius=2000000)\n",
    "\n",
    "# clf = GradientBoostingClassifier(n_estimators=1600,\n",
    "#                                 max_depth=None,\n",
    "#                                 min_samples_split=5,\n",
    "#                                 min_samples_leaf=1,)\n",
    "\n",
    "#clf = GradientBoostingClassifier(loss='exponential', learning_rate=0.5, n_estimators=1500)\n",
    "\n",
    "# clf = GaussianProcessClassifier(multi_class=\"one_vs_rest\",\n",
    "#                                 n_jobs=-1,)\n",
    "\n",
    "#clf = Perceptron(penalty='elasticnet', alpha=1e-7, max_iter=20000, tol=1e-6)\n",
    "\n",
    "#clf = DecisionTreeClassifier()\n",
    "\n",
    "scores = cross_val_score(clf, X_train, y_train, scoring='accuracy', cv=10)\n",
    "print(scores)\n",
    "print(\"Accuracy: %0.3f (+/- %0.3f)\" % (scores.mean(), scores.std() * 2))\n",
    "\n",
    "print(\"Elapsed time: \", time.time()-start_time)"
   ]
  },
  {
   "cell_type": "code",
   "execution_count": 100,
   "metadata": {},
   "outputs": [
    {
     "name": "stdout",
     "output_type": "stream",
     "text": [
      "              precision    recall  f1-score   support\n",
      "\n",
      "           1       0.95      0.97      0.96       502\n",
      "           2       0.74      0.73      0.74       406\n",
      "           3       0.65      0.76      0.70       539\n",
      "           4       0.66      0.58      0.62       432\n",
      "           5       0.77      0.70      0.73       371\n",
      "\n",
      "   micro avg       0.76      0.76      0.76      2250\n",
      "   macro avg       0.76      0.75      0.75      2250\n",
      "weighted avg       0.76      0.76      0.75      2250\n",
      "\n",
      "Accuracy is: 0.7555555555555555\n"
     ]
    }
   ],
   "source": [
    "array = train_data.values\n",
    "X = train_data.columns[0:6] # features (all)\n",
    "y = train_data.columns[6] # target (class label - last column)\n",
    "\n",
    "X_train, X_test, y_train, y_test = train_test_split(train_data[X], train_data[y])\n",
    "clf.fit(X_train, y_train)\n",
    "y_pred = clf.predict(X_test)\n",
    "\n",
    "print(classification_report(y_test, y_pred))\n",
    "print('Accuracy is:', accuracy_score(y_test, y_pred))\n",
    "    "
   ]
  },
  {
   "cell_type": "code",
   "execution_count": null,
   "metadata": {},
   "outputs": [],
   "source": []
  }
 ],
 "metadata": {
  "kernelspec": {
   "display_name": "Python 3",
   "language": "python",
   "name": "python3"
  },
  "language_info": {
   "codemirror_mode": {
    "name": "ipython",
    "version": 3
   },
   "file_extension": ".py",
   "mimetype": "text/x-python",
   "name": "python",
   "nbconvert_exporter": "python",
   "pygments_lexer": "ipython3",
   "version": "3.7.1"
  }
 },
 "nbformat": 4,
 "nbformat_minor": 2
}
